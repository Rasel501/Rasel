{
 "cells": [
  {
   "cell_type": "code",
   "execution_count": 4,
   "id": "d4b93d60",
   "metadata": {},
   "outputs": [],
   "source": [
    "import pickle as pk\n",
    "with open(\"My_Model\",'rb') as file:\n",
    "    model1=pk.load(file)"
   ]
  },
  {
   "cell_type": "code",
   "execution_count": 5,
   "id": "68389488",
   "metadata": {},
   "outputs": [
    {
     "ename": "NameError",
     "evalue": "name 'Scaled_x' is not defined",
     "output_type": "error",
     "traceback": [
      "\u001b[1;31m---------------------------------------------------------------------------\u001b[0m",
      "\u001b[1;31mNameError\u001b[0m                                 Traceback (most recent call last)",
      "\u001b[1;32m~\\AppData\\Local\\Temp/ipykernel_10572/3145861177.py\u001b[0m in \u001b[0;36m<module>\u001b[1;34m\u001b[0m\n\u001b[1;32m----> 1\u001b[1;33m \u001b[0mmodel1\u001b[0m\u001b[1;33m.\u001b[0m\u001b[0mpredict\u001b[0m\u001b[1;33m(\u001b[0m\u001b[0mScaled_x\u001b[0m\u001b[1;33m[\u001b[0m\u001b[1;36m1\u001b[0m\u001b[1;33m]\u001b[0m\u001b[1;33m)\u001b[0m\u001b[1;33m\u001b[0m\u001b[1;33m\u001b[0m\u001b[0m\n\u001b[0m",
      "\u001b[1;31mNameError\u001b[0m: name 'Scaled_x' is not defined"
     ]
    }
   ],
   "source": [
    "model1.predict(Scaled_x[1])"
   ]
  },
  {
   "cell_type": "code",
   "execution_count": 8,
   "id": "3b5946bb",
   "metadata": {},
   "outputs": [
    {
     "data": {
      "text/plain": [
       "array([1], dtype=int64)"
      ]
     },
     "execution_count": 8,
     "metadata": {},
     "output_type": "execute_result"
    }
   ],
   "source": [
    "model1.predict([[ 0.30768633,  2.40079294,  0.74983117, -0.39571994, -0.03517999,\n",
    "        0.07261016,  0.49416711]])"
   ]
  },
  {
   "cell_type": "code",
   "execution_count": null,
   "id": "f34260bf",
   "metadata": {},
   "outputs": [],
   "source": []
  }
 ],
 "metadata": {
  "kernelspec": {
   "display_name": "Python 3 (ipykernel)",
   "language": "python",
   "name": "python3"
  },
  "language_info": {
   "codemirror_mode": {
    "name": "ipython",
    "version": 3
   },
   "file_extension": ".py",
   "mimetype": "text/x-python",
   "name": "python",
   "nbconvert_exporter": "python",
   "pygments_lexer": "ipython3",
   "version": "3.8.8"
  }
 },
 "nbformat": 4,
 "nbformat_minor": 5
}
